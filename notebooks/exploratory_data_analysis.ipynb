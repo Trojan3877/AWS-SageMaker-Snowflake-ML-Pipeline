# Exploratory Data Analysis (EDA) - Fraud Detection

## 1. Data Load

## 2. Data Cleaning

## 3. Class Imbalance Analysis
    - Plot fraud vs non-fraud distribution

## 4. Correlation Heatmap

## 5. Feature Engineering Ideas

## 6. Model Baseline Ideas

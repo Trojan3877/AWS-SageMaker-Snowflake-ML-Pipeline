# SageMaker Training Pipeline

## 1. Connect to AWS and SageMaker

## 2. Load Preprocessed Data

## 3. Define Estimator (XGBoost / Sklearn)

## 4. Train Model on SageMaker

## 5. Deploy Model (Optional)

## 6. Inference Test

# Exploratory Data Analysis (EDA) - Financial Fraud Detection

## 1️⃣ Load Raw Data
```python
import pandas as pd

df = pd.read_csv('data/transactions.csv')
df.head()

df['is_fraud'].value_counts(normalize=True).plot(kind='barh', title='Fraud vs Non-Fraud')

df[df['is_fraud'] == 0]['amount'].plot(kind='hist', alpha=0.5, label='Non-Fraud', bins=50)
df[df['is_fraud'] == 1]['amount'].plot(kind='hist', alpha=0.5, label='Fraud', bins=50)
plt.legend()
plt.title('Transaction Amount by Fraud')

import seaborn as sns
import matplotlib.pyplot as plt

corr = df.corr()
sns.heatmap(corr, annot=True, cmap='coolwarm')
plt.title('Correlation Matrix')

df['transaction_datetime'] = pd.to_datetime(df['transaction_datetime'])
df.set_index('transaction_datetime').resample('D')['is_fraud'].mean().plot(title='Daily Fraud Rate')
